{
 "cells": [
  {
   "cell_type": "markdown",
   "metadata": {},
   "source": [
    "![AlternativeLogo-eng.png](data:image/png;base64,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)"
   ]
  },
  {
   "attachments": {},
   "cell_type": "markdown",
   "metadata": {},
   "source": [
    "# CPE112: Programming with Data Structures\n",
    "# Assignment4 Linked List"
   ]
  },
  {
   "cell_type": "markdown",
   "metadata": {},
   "source": [
    "### ```Implementation of the Singly linked lists.```\n",
    "**Singly Linked-List ADT** <br>\n",
    "Singly Linked List is linked list that are a collection of Nodes. By each nodes contain the data part and the pointer part. The nodes can be accessed in a sequential way, a single link to next node with the next pointer to create a sequential data structure.\n",
    "\n",
    "| properties/methods    | description    |\n",
    "| --- | --- | \n",
    "| Single_Linked_list() | create a new single linked list without any node |\n",
    "| prepend(item) | add a new node to the head of linked list |\n",
    "| append(item) | add a new node to the tail of linked list |\n",
    "| traverse() | print all contained data in linked list |\n",
    "| search(target) | return True if target item was found in linked list, return False if target item was not in linked list | \n",
    "| remove(target | remove the first found target from linked list |\n",
    "| isEmpty() | return True if the linked list has no node and return False if not\n",
    "| length() | return the number of node contained in Linked list\n"
   ]
  },
  {
   "cell_type": "code",
   "execution_count": 77,
   "metadata": {},
   "outputs": [],
   "source": [
    "class SLinkNode:\n",
    "    def __init__(self,item):\n",
    "        self._item = item\n",
    "        self._next = None\n",
    "\n",
    "class SLinkList:\n",
    "    def __init__(self):\n",
    "        self._head = None\n",
    "        self._tail = None\n",
    "        self._size = 0\n",
    "\n",
    "    def __len__(self):\n",
    "        return self._size\n",
    "    \n",
    "    def isEmpty(self):\n",
    "        return self._size == 0\n",
    "    \n",
    "    def prepend(self, item):\n",
    "        newNode = SLinkNode(item)\n",
    "        if self.isEmpty: #ถ้าเป็นตัวแรก มันจะเป็นหางด้วย\n",
    "            self._tail = newNode\n",
    "        else: # ถ้าไม่ใช่ ก็ชี้ไปทางหัว \n",
    "            newNode._next = self._head\n",
    "        self._head = newNode\n",
    "        self._size += 1\n",
    "    \n",
    "    def append(self, item):\n",
    "        newNode = SLinkNode(item)\n",
    "        if self.isEmpty():\n",
    "            self._head = newNode\n",
    "        else:\n",
    "            self._tail._next = newNode\n",
    "            self._tail = newNode\n",
    "        self._size += 1\n",
    "\n",
    "    def remove(self, item):\n",
    "        predNode = None\n",
    "        curNode = self._head\n",
    "        while curNode is not None and curNode._item != item:\n",
    "            predNode = curNode\n",
    "            curNode = curNode._next\n",
    "        \n",
    "        assert curNode is not None, \"The item must be in this linked list\"\n",
    "        self._size -= 1\n",
    "\n",
    "        if curNode is self._head:\n",
    "            self._head = curNode._next\n",
    "        elif curNode is self._tail:\n",
    "            self._tail = predNode\n",
    "            self._tail._next = None\n",
    "        else:\n",
    "            predNode._next = curNode._next\n",
    "\n",
    "        return curNode._item\n",
    "    \n",
    "    def traverse(self):\n",
    "        curNode  = self._head\n",
    "        while curNode is not None:\n",
    "            print(curNode._item)\n",
    "            curNode = curNode._next\n",
    "\n",
    "    def search(self, target):\n",
    "        curNode = self._head\n",
    "        while curNode is not None and curNode._item != target:\n",
    "            curNode = curNode._next\n",
    "        return curNode is not None\n",
    "    \n",
    "    def __repr__(self): #Traversing Node\n",
    "        curNode = self._head\n",
    "        s = \"[\"\n",
    "        while curNode is not None:\n",
    "            s = s + str(curNode._item)+ \"->\"\n",
    "            curNode = curNode._next\n",
    "        s = s[:-2] + \"]\"\n",
    "        return s\n",
    "\n",
    "    \n"
   ]
  },
  {
   "cell_type": "code",
   "execution_count": 78,
   "metadata": {},
   "outputs": [],
   "source": [
    "MySlink = SLinkList()"
   ]
  },
  {
   "cell_type": "code",
   "execution_count": 79,
   "metadata": {},
   "outputs": [
    {
     "data": {
      "text/plain": [
       "[10]"
      ]
     },
     "execution_count": 79,
     "metadata": {},
     "output_type": "execute_result"
    }
   ],
   "source": [
    "MySlink.append(15)\n",
    "MySlink.prepend(10)\n",
    "MySlink"
   ]
  },
  {
   "cell_type": "markdown",
   "metadata": {},
   "source": [
    "---"
   ]
  },
  {
   "cell_type": "markdown",
   "metadata": {},
   "source": [
    "# Now we can use the Singly Linked List to implement Stack and Queue"
   ]
  },
  {
   "attachments": {},
   "cell_type": "markdown",
   "metadata": {},
   "source": [
    "### ------------------------------------------------------------------------------------\n",
    "## <span style=\"color:red\"> Practice1 </span>: Implement Stack with Singly Linked list\n",
    "### ------------------------------------------------------------------------------------\n",
    "Make a new class named **LStack** by using Singly linked list in the implementation"
   ]
  },
  {
   "cell_type": "markdown",
   "metadata": {},
   "source": [
    "### Implementation of the Stack ADT using Singly linked lists."
   ]
  },
  {
   "cell_type": "markdown",
   "metadata": {},
   "source": [
    "**Stack ADT**  \n",
    "A stack is a data structure that stores a linear collection of items with access limited to a last-in first-out (LIFO) order. Adding and removing items is restricted to one end known as the top of the stack. An empty stack is one containing no items.\n",
    "| properties/methods    | description    |\n",
    "| --- | --- |\n",
    "| __Stack()__: | Creates a new empty stack.|\n",
    "| __isEmpty()__: | Returns a Boolean value indicating if the stack is empty.|\n",
    "| __length()__: | Returns the number of items in the stack.|\n",
    "| __pop()__: | Removes and returns the top item of the stack, if the stack is not empty. Items cannot be popped from an empty stack. The next item on the stack becomes the new top item.|\n",
    "| __peek()__: | Returns a reference to the item on top of a non-empty stack without removing it. Peeking, which cannot be done on an empty stack, does not modify the stack contents.|\n",
    "| __push(item)__: | Adds the given item to the top of the stack.|\n",
    "| __\\_\\_repr\\_\\_()__ : | represent the item contained in stack |"
   ]
  },
  {
   "cell_type": "code",
   "execution_count": null,
   "metadata": {},
   "outputs": [],
   "source": [
    "# implement LStack class here"
   ]
  },
  {
   "cell_type": "code",
   "execution_count": 111,
   "metadata": {},
   "outputs": [],
   "source": [
    "class LStack(SLinkNode):\n",
    "    def __init__(self):\n",
    "        self._head = None\n",
    "        self._tail = None\n",
    "        self._size = 0\n",
    "    \n",
    "    def isEmpty(self):\n",
    "        return len(self) == 0\n",
    "    \n",
    "    def __len__(self):\n",
    "        return self._size\n",
    "    \n",
    "    def peek(self):\n",
    "        # Return peeking element on top of a stack\n",
    "        assert not self.isEmpty() , \"Cannot peek at an empty stack\"\n",
    "        return self._head._item\n",
    "    \n",
    "    def pop(self):\n",
    "        # Remove and return the top item of the stack\n",
    "        assert not self.isEmpty() , \"Cannot pop at an empty stack\"\n",
    "        s1 = self._head\n",
    "        self._head = self._head._next\n",
    "        s1 = None\n",
    "        return s1\n",
    "    \n",
    "    def push(self,item):\n",
    "        # Add the given item to the top of the stack\n",
    "        newNode = SLinkNode(item)\n",
    "        if self.isEmpty():\n",
    "            self._head = newNode\n",
    "        else:\n",
    "            newNode._next = self._head # เชื่อมต่อ next ของตัวที่ ไปที่ตัวล่าสุด\n",
    "            self._head = newNode\n",
    "        self._size += 1\n",
    "    \n",
    "    def __repr__(self):\n",
    "        # Represent\n",
    "        curNode = self._head\n",
    "        s = \"[\"\n",
    "        while curNode is not None:\n",
    "            s = s + str(curNode._item)+ \"->\"\n",
    "            curNode = curNode._next\n",
    "        s = s[:-2] + \"]\"\n",
    "        return s"
   ]
  },
  {
   "cell_type": "code",
   "execution_count": 112,
   "metadata": {},
   "outputs": [],
   "source": [
    "S = LStack()"
   ]
  },
  {
   "cell_type": "code",
   "execution_count": 113,
   "metadata": {},
   "outputs": [
    {
     "data": {
      "text/plain": [
       "True"
      ]
     },
     "execution_count": 113,
     "metadata": {},
     "output_type": "execute_result"
    }
   ],
   "source": [
    "#Check the isEmpty method\n",
    "S.isEmpty()"
   ]
  },
  {
   "cell_type": "code",
   "execution_count": 114,
   "metadata": {},
   "outputs": [
    {
     "data": {
      "text/plain": [
       "0"
      ]
     },
     "execution_count": 114,
     "metadata": {},
     "output_type": "execute_result"
    }
   ],
   "source": [
    "#Check the number of items in the stack\n",
    "len(S)"
   ]
  },
  {
   "cell_type": "code",
   "execution_count": 115,
   "metadata": {},
   "outputs": [
    {
     "data": {
      "text/plain": [
       "[7->9->2->1]"
      ]
     },
     "execution_count": 115,
     "metadata": {},
     "output_type": "execute_result"
    }
   ],
   "source": [
    "\n",
    "S.push(1)\n",
    "S.push(2)\n",
    "S.push(9)\n",
    "S.push(7)\n",
    "S"
   ]
  },
  {
   "cell_type": "code",
   "execution_count": 116,
   "metadata": {},
   "outputs": [
    {
     "data": {
      "text/plain": [
       "[9->2->1]"
      ]
     },
     "execution_count": 116,
     "metadata": {},
     "output_type": "execute_result"
    }
   ],
   "source": [
    "#Check pop method\n",
    "S.pop()\n",
    "S"
   ]
  },
  {
   "cell_type": "code",
   "execution_count": 118,
   "metadata": {},
   "outputs": [
    {
     "data": {
      "text/plain": [
       "9"
      ]
     },
     "execution_count": 118,
     "metadata": {},
     "output_type": "execute_result"
    }
   ],
   "source": [
    "#Check peek method\n",
    "S.peek()"
   ]
  },
  {
   "cell_type": "code",
   "execution_count": null,
   "metadata": {},
   "outputs": [],
   "source": []
  },
  {
   "cell_type": "markdown",
   "metadata": {},
   "source": [
    "---"
   ]
  },
  {
   "attachments": {},
   "cell_type": "markdown",
   "metadata": {},
   "source": [
    "### ------------------------------------------------------------------------------------\n",
    "## <span style=\"color:red\"> Practice2 </span>: Implement Queue with Singly Linked list\n",
    "### ------------------------------------------------------------------------------------\n",
    "Make a new class named **LQueue** by using Singly linked list in the implementation"
   ]
  },
  {
   "cell_type": "markdown",
   "metadata": {},
   "source": [
    "### Implementation of the Queue ADT using Singly linked lists"
   ]
  },
  {
   "cell_type": "markdown",
   "metadata": {},
   "source": [
    "**QUEUE ADT**  \n",
    "A queue is a data structure that a linear collection of items in which access is restricted to a first-in first-out (FIFO) basis. New items are inserted at the back and existing items are removed from the front. The items are maintained in the order in which they are added to the structure.\n",
    "| properties/methods    | description    |\n",
    "| --- | --- |\n",
    "| __Queue()__: | Creates a new empty queue, which is a queue containing no items. |\n",
    "| __isEmpty()__: | Returns a Boolean value indicating whether the queue is empty. |\n",
    "| __length()__: | Returns the number of items currently in the queue. |\n",
    "| __enqueue(item)__: | Adds the given item to the back of the queue. |\n",
    "| __dequeue()__: | Removes and returns the front item from the queue. An item cannot be dequeued from an empty queue. |\n",
    "| __\\_\\_repr\\_\\_()__ : | represent the item contained in queue |"
   ]
  },
  {
   "cell_type": "code",
   "execution_count": null,
   "metadata": {},
   "outputs": [],
   "source": [
    "# implement LQueue class here"
   ]
  },
  {
   "cell_type": "code",
   "execution_count": null,
   "metadata": {},
   "outputs": [],
   "source": []
  },
  {
   "cell_type": "code",
   "execution_count": null,
   "metadata": {},
   "outputs": [],
   "source": []
  },
  {
   "cell_type": "markdown",
   "metadata": {},
   "source": [
    "---"
   ]
  },
  {
   "cell_type": "markdown",
   "metadata": {},
   "source": [
    "### ```Implementation of the doubly Linked List```\n"
   ]
  },
  {
   "cell_type": "code",
   "execution_count": null,
   "metadata": {},
   "outputs": [],
   "source": [
    "# code here"
   ]
  },
  {
   "cell_type": "code",
   "execution_count": null,
   "metadata": {},
   "outputs": [],
   "source": []
  },
  {
   "cell_type": "code",
   "execution_count": null,
   "metadata": {},
   "outputs": [],
   "source": []
  },
  {
   "cell_type": "markdown",
   "metadata": {},
   "source": [
    "---"
   ]
  },
  {
   "attachments": {},
   "cell_type": "markdown",
   "metadata": {},
   "source": [
    "### ------------------------------------------------------------------------------------\n",
    "## <span style=\"color:red\"> Practice3 </span>: Implement Deque with Double Linked list\n",
    "### ------------------------------------------------------------------------------------\n",
    "Make a new queue class named **DDque** by using Double linked list in the implementation"
   ]
  },
  {
   "cell_type": "markdown",
   "metadata": {},
   "source": [
    "### Implementation of the Deque ADT using Double linked list"
   ]
  },
  {
   "cell_type": "markdown",
   "metadata": {},
   "source": [
    "**Double-Ended Queue ADT**  \n",
    "A doubled-ended queue is a queue-like data structure that supports insertion and deletion at both the front and the back of the queue.\n",
    "| properties/methods    | description    |\n",
    "| --- | --- |\n",
    "| __Deque()__: | Create a new empty deque, which no item with in.|\n",
    "| __AddFirst(item)__: | Add an item to the front of deque.|\n",
    "| __AddRear(item)__: | Add an item to the back of deque.|\n",
    "| __DeleteFirst()__: | Remove and return the first item from deque; an error occurs if the deque is empty.|\n",
    "| __DeleteRear()__: | Remove and return the last item from deque; an error occurs if the deque is empty.|\n",
    "| __First()__: | Return (but do not remove) the first item of deque; an error occurs if the deque is empty.|\n",
    "| __Rear()__: | Return (but do not remove) the last item of deque; an error occurs if the deque is empty.|\n",
    "| __isEmpty()__: | Return True if deque does not contain any items.|\n",
    "| __length()__: | Return the number of items in deque.|\n",
    "| __\\_\\_repr\\_\\_()__ : | represent the item contained in stack |\n"
   ]
  },
  {
   "cell_type": "code",
   "execution_count": null,
   "metadata": {},
   "outputs": [],
   "source": [
    "# implement DDeque class here"
   ]
  },
  {
   "cell_type": "code",
   "execution_count": 119,
   "metadata": {},
   "outputs": [],
   "source": [
    "class DlinkNode(object):\n",
    "    def __init__(self, item, prev, next):\n",
    "        self._item = item\n",
    "        self._prev = prev\n",
    "        self._next = next \n",
    "\n",
    "    def insert_between(self, item , predecessor, successor):\n",
    "        newNode = DlinkNode(item, predecessor, successor)\n",
    "        predecessor._next = newNode\n",
    "        successor._prev = newNode\n",
    "    \n",
    "    def delete_node(self,node):\n",
    "        predecessor = node._prev\n",
    "        successor = node._next\n",
    "        predecessor._next = successor\n",
    "        successor._prev = predecessor\n",
    "        "
   ]
  },
  {
   "cell_type": "code",
   "execution_count": 190,
   "metadata": {},
   "outputs": [],
   "source": [
    "class DDeque(DlinkNode):\n",
    "    def __init__(self):\n",
    "        self._header = DlinkNode(None,None,None)\n",
    "        self._trailer = DlinkNode(None,None,None)\n",
    "        self._header._next = self._trailer\n",
    "        self._trailer._next = self._header\n",
    "        self._size = 0\n",
    "\n",
    "    def AddFirst(self, item):\n",
    "        self.insert_between(item, self._header, self._header._next)\n",
    "        self._size += 1\n",
    "    \n",
    "    def AddRear(self, item):\n",
    "        self.insert_between(item, self._trailer, self._trailer._next)\n",
    "        self._size += 1\n",
    "\n",
    "    def DeleteFirst(self):\n",
    "        assert not self.isEmpty() , \"The Deque is empty.\"\n",
    "        self.delete_node(self._header._next)\n",
    "        self._size -= 1\n",
    "\n",
    "    def deleteRear(self):\n",
    "        assert not self.isEmpty() , \"The Deque is empty.\"\n",
    "        self.delete_node(self._trailer._prev)\n",
    "        self._size -= 1\n",
    "\n",
    "    def isEmpty(self):\n",
    "        return len(self) == 0\n",
    "    \n",
    "    def __len__(self):\n",
    "        return self._size\n",
    "    \n",
    "    def First(self):\n",
    "        assert not self.isEmpty() , \"The Deque is empty.\"\n",
    "        return self._header._next._item\n",
    "    \n",
    "    def Rear(self):\n",
    "        assert not self.isEmpty() , \"The Deque is empty.\"\n",
    "        return self._trailer._prev._item\n",
    "    \n",
    "    def __repr__(self):\n",
    "        curNode = self._header._next\n",
    "        s = \"[\"\n",
    "        while curNode is not self._trailer :\n",
    "            s = s + str(curNode._item)+ \" <--> \"\n",
    "            curNode = curNode._next\n",
    "        s = s[:-5] + \"]\"\n",
    "        return s\n",
    "\n"
   ]
  },
  {
   "attachments": {},
   "cell_type": "markdown",
   "metadata": {},
   "source": [
    "---"
   ]
  },
  {
   "cell_type": "code",
   "execution_count": 198,
   "metadata": {},
   "outputs": [],
   "source": [
    "D = DDeque()"
   ]
  },
  {
   "cell_type": "code",
   "execution_count": 199,
   "metadata": {},
   "outputs": [
    {
     "data": {
      "text/plain": [
       "[2 <--> 11 <--> 90 <--> 4 <--> 2 ]"
      ]
     },
     "execution_count": 199,
     "metadata": {},
     "output_type": "execute_result"
    }
   ],
   "source": [
    "D.AddFirst(2)\n",
    "D.AddFirst(4)\n",
    "D.AddFirst(90)\n",
    "D.AddFirst(11)\n",
    "D.AddFirst(2)\n",
    "D.AddRear(9)\n",
    "D"
   ]
  },
  {
   "cell_type": "code",
   "execution_count": 200,
   "metadata": {},
   "outputs": [
    {
     "data": {
      "text/plain": [
       "2"
      ]
     },
     "execution_count": 200,
     "metadata": {},
     "output_type": "execute_result"
    }
   ],
   "source": [
    "#Check the first item\n",
    "D.First()"
   ]
  },
  {
   "cell_type": "code",
   "execution_count": 201,
   "metadata": {},
   "outputs": [
    {
     "data": {
      "text/plain": [
       "False"
      ]
     },
     "execution_count": 201,
     "metadata": {},
     "output_type": "execute_result"
    }
   ],
   "source": [
    "D.isEmpty()"
   ]
  },
  {
   "cell_type": "code",
   "execution_count": 202,
   "metadata": {},
   "outputs": [
    {
     "data": {
      "text/plain": [
       "2"
      ]
     },
     "execution_count": 202,
     "metadata": {},
     "output_type": "execute_result"
    }
   ],
   "source": [
    "#Check the rear item\n",
    "D.Rear()"
   ]
  },
  {
   "cell_type": "code",
   "execution_count": 203,
   "metadata": {},
   "outputs": [
    {
     "data": {
      "text/plain": [
       "[11 <--> 90 <--> 4 <--> 2 ]"
      ]
     },
     "execution_count": 203,
     "metadata": {},
     "output_type": "execute_result"
    }
   ],
   "source": [
    "#Check deleteFirst and deleteRear method\n",
    "D.DeleteFirst()\n",
    "D"
   ]
  },
  {
   "cell_type": "code",
   "execution_count": 204,
   "metadata": {},
   "outputs": [
    {
     "data": {
      "text/plain": [
       "[11 <--> 90 <--> 4 ]"
      ]
     },
     "execution_count": 204,
     "metadata": {},
     "output_type": "execute_result"
    }
   ],
   "source": [
    "D.deleteRear()\n",
    "D"
   ]
  },
  {
   "attachments": {},
   "cell_type": "markdown",
   "metadata": {},
   "source": [
    "## Question:\n",
    "1. What is diffenent between Singly Linked List and Double Linked List?"
   ]
  },
  {
   "cell_type": "markdown",
   "metadata": {},
   "source": []
  },
  {
   "attachments": {},
   "cell_type": "markdown",
   "metadata": {},
   "source": [
    "2. Which case we need Double Linked List?"
   ]
  },
  {
   "cell_type": "markdown",
   "metadata": {},
   "source": []
  },
  {
   "attachments": {},
   "cell_type": "markdown",
   "metadata": {},
   "source": [
    "3. What is the benefit of sentinel (dummy) nodes in Double Linked List"
   ]
  },
  {
   "cell_type": "markdown",
   "metadata": {},
   "source": []
  }
 ],
 "metadata": {
  "kernelspec": {
   "display_name": "Python 3.10.2 64-bit",
   "language": "python",
   "name": "python3"
  },
  "language_info": {
   "codemirror_mode": {
    "name": "ipython",
    "version": 3
   },
   "file_extension": ".py",
   "mimetype": "text/x-python",
   "name": "python",
   "nbconvert_exporter": "python",
   "pygments_lexer": "ipython3",
   "version": "3.12.3"
  },
  "vscode": {
   "interpreter": {
    "hash": "aee8b7b246df8f9039afb4144a1f6fd8d2ca17a180786b69acc140d282b71a49"
   }
  }
 },
 "nbformat": 4,
 "nbformat_minor": 4
}
