{
 "cells": [
  {
   "cell_type": "markdown",
   "metadata": {
    "id": "ykK0Za76PblD"
   },
   "source": [
    "![AlternativeLogo-eng.png](data:image/png;base64,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)"
   ]
  },
  {
   "cell_type": "markdown",
   "metadata": {
    "id": "ZbFiCCZBe3vr"
   },
   "source": [
    "# CPE112/ISY202\n",
    "# Session1: Pretest -- Python Programming\n",
    "--------------------------------------"
   ]
  },
  {
   "cell_type": "markdown",
   "metadata": {
    "id": "_yiPfd0Te3vu"
   },
   "source": [
    "__1.__ Write a program to sort, calculate a summation and an average of the elements in a list  \n",
    "* Loop for receive each elements to the list  \n",
    "* if input is \"_\" (space) then start calculation\n",
    "* Stop after calculation  "
   ]
  },
  {
   "cell_type": "markdown",
   "metadata": {
    "id": "WWipAPwQe3vv",
    "tags": []
   },
   "source": [
    "Example:  \n",
    "Input element: *5*  \n",
    "Input next element: *6*  \n",
    "Input next element: *7*  \n",
    "Input next element: *3*  \n",
    "Input next element: *2*  \n",
    "Input next element:  \n",
    "My list is [ 5, 6, 7, 3, 2 ]  \n",
    "My sorted list is [ 2, 3, 5, 6, 7 ]  \n",
    "Summation from m to n is: 23  \n",
    "Average from m to n is: 4.6  "
   ]
  },
  {
   "cell_type": "markdown",
   "metadata": {
    "id": "Zy1GphM5e3vv"
   },
   "source": [
    "<span style=color:red> Write the code below: </span>"
   ]
  },
  {
   "cell_type": "code",
   "execution_count": 7,
   "metadata": {
    "id": "R0eEpELVSZKM"
   },
   "outputs": [
    {
     "name": "stdin",
     "output_type": "stream",
     "text": [
      "Input element:  5\n",
      "Input next element:  6\n",
      "Input next element:  7\n",
      "Input next element:  3\n",
      "Input next element:  2\n",
      "Input next element:   \n"
     ]
    },
    {
     "name": "stdout",
     "output_type": "stream",
     "text": [
      "\n",
      "My list is [5, 6, 7, 3, 2]\n",
      "My sorted list is [2, 3, 5, 6, 7]\n",
      "Summation from m to n is: 23\n",
      "Average from m to n is: 4.6\n"
     ]
    }
   ],
   "source": [
    "numbers = []\n",
    "num = input(\"Input element: \")\n",
    "while True:\n",
    "    numbers.append(int(num))\n",
    "    num = input(\"Input next element: \")\n",
    "    if num == \" \":\n",
    "        break\n",
    "total = sum(numbers)\n",
    "\n",
    "print(f\"\\nMy list is {numbers}\")\n",
    "\n",
    "numbers.sort()\n",
    "\n",
    "print(f\"My sorted list is {numbers}\")\n",
    "\n",
    "print(f\"Summation from m to n is: {total}\")\n",
    "\n",
    "print(f\"Average from m to n is: {total/len(numbers)}\")"
   ]
  },
  {
   "cell_type": "code",
   "execution_count": null,
   "metadata": {
    "id": "PNUX4KMaSZSz",
    "tags": []
   },
   "outputs": [],
   "source": []
  },
  {
   "cell_type": "code",
   "execution_count": null,
   "metadata": {
    "id": "pwUT7rJ_SZeb"
   },
   "outputs": [],
   "source": []
  },
  {
   "cell_type": "markdown",
   "metadata": {},
   "source": [
    "---"
   ]
  },
  {
   "cell_type": "markdown",
   "metadata": {
    "id": "vjMF6lNVe3vw"
   },
   "source": [
    "__2.__ Write a program to generate a series numbers from **m** to **n**  \n",
    "* Take two inputs **m** and **n** from user  \n",
    "* if **n** is less than **m** count number up (count from **m** to **n**). Otherwise count number down"
   ]
  },
  {
   "cell_type": "markdown",
   "metadata": {
    "id": "mbkTV-Lne3vx"
   },
   "source": [
    "Example:  \n",
    "Input m: *1*  \n",
    "Input n: *10*  \n",
    "Number from m to n is [1,2,3,4,5,6,7,8,9,10]  \n",
    "\n",
    "Input m: *10*  \n",
    "Input n: *1*  \n",
    "Number from m to n is [10,9,8,7,6,5,4,3,2,1]  "
   ]
  },
  {
   "cell_type": "markdown",
   "metadata": {
    "id": "0a19g9Xye3vy"
   },
   "source": [
    "<span style=color:red> Write the code below: </span>"
   ]
  },
  {
   "cell_type": "code",
   "execution_count": 13,
   "metadata": {
    "id": "Lo9W5Wzoe3vy"
   },
   "outputs": [
    {
     "name": "stdin",
     "output_type": "stream",
     "text": [
      "Input m 10\n",
      "Input n: 1\n"
     ]
    },
    {
     "name": "stdout",
     "output_type": "stream",
     "text": [
      "Number from m to n is [10, 9, 8, 7, 6, 5, 4, 3, 2, 1]\n"
     ]
    }
   ],
   "source": [
    "m = int(input(\"Input m\"))\n",
    "n = int(input(\"Input n:\"))\n",
    "ls = []\n",
    "if m < n:\n",
    "    for i in range(m,n+1):\n",
    "        ls.append(i)\n",
    "elif m > n:\n",
    "    for i in range(m,n-1,-1):\n",
    "        ls.append(i)\n",
    "\n",
    "print(\"Number from m to n is\", ls)"
   ]
  },
  {
   "cell_type": "code",
   "execution_count": null,
   "metadata": {
    "id": "TGlj_L6rkkrH"
   },
   "outputs": [],
   "source": []
  },
  {
   "cell_type": "code",
   "execution_count": null,
   "metadata": {
    "id": "W_4bzgtkkkvH"
   },
   "outputs": [],
   "source": []
  },
  {
   "cell_type": "markdown",
   "metadata": {},
   "source": [
    "---"
   ]
  },
  {
   "cell_type": "markdown",
   "metadata": {
    "id": "BIXNBMNSe3vz"
   },
   "source": [
    "__3.__ Calculate the volume of a sphere with the radius **r** and a cube with the edge **a** and compare the volume of the sphere and the cube  \n",
    "* Take radius of the sphere **r** and the edge's size of the cube **a** from user  \n",
    "  \n",
    "* calculate the volume of a sphere =  \n",
    "\\begin{equation*}\n",
    "\\frac{4}{3} \\pi  r^3\n",
    "\\end{equation*}  \n",
    "* and the volume of a cube =   \n",
    "\\begin{equation*}\n",
    "a^3\n",
    "\\end{equation*}  \n",
    "* if **r** or **a** is negative number then re-input **r** or **a** again  \n",
    "* compare and print out which the volunme of sphere or the cubic is bigger "
   ]
  },
  {
   "cell_type": "markdown",
   "metadata": {
    "id": "TzMAeoKfe3v0"
   },
   "source": [
    "Example:  \n",
    "Input the radius of a sphere: *2*  \n",
    "Input the edge a of a cubic: *3*  \n",
    "The volume of a sphere is: *33.51*  \n",
    "The volume of a cubic is *27*  \n",
    "The *sphere* is *bigger* than the *cubic*"
   ]
  },
  {
   "cell_type": "markdown",
   "metadata": {
    "id": "LOyN0thje3v0"
   },
   "source": [
    "<span style=color:red> Write the code below: </span>"
   ]
  },
  {
   "cell_type": "code",
   "execution_count": 12,
   "metadata": {
    "id": "fiq5I8Zoe3v1"
   },
   "outputs": [],
   "source": [
    "import math"
   ]
  },
  {
   "cell_type": "code",
   "execution_count": 24,
   "metadata": {
    "id": "UeUfpovIkldP"
   },
   "outputs": [
    {
     "name": "stdin",
     "output_type": "stream",
     "text": [
      "Input the radius of a sphere:  -1\n",
      "Input the edge a of a cubic:  2\n",
      "Input the radius of a sphere again:  1\n",
      "Input the edge a of a cubic again:  3\n"
     ]
    },
    {
     "name": "stdout",
     "output_type": "stream",
     "text": [
      "The volume of a sphere is 4.19\n",
      "The volume of a cubic is 27\n",
      "The cubic is bigger than the sphere\n"
     ]
    }
   ],
   "source": [
    "r = int(input(\"Input the radius of a sphere: \"))\n",
    "a = int(input(\"Input the edge a of a cubic: \"))\n",
    "\n",
    "while r < 0 or a < 0:\n",
    "    r = int(input(\"Input the radius of a sphere again: \"))\n",
    "    a = int(input(\"Input the edge a of a cubic again: \"))\n",
    "\n",
    "vos = (4*math.pi*(r**3))/3\n",
    "\n",
    "voc = a**3\n",
    "\n",
    "print(\"The volume of a sphere is %.2f\" % vos)\n",
    "print(\"The volume of a cubic is\",voc)\n",
    "\n",
    "if vos > voc:\n",
    "    print(\"The sphere is bigger than the cubic\")\n",
    "elif voc > vos:\n",
    "    print(\"The cubic is bigger than the sphere\")\n",
    "else:\n",
    "    print(\"The sphere is equal to the cube.\")"
   ]
  },
  {
   "cell_type": "code",
   "execution_count": null,
   "metadata": {
    "id": "oHo7FyvrklgX"
   },
   "outputs": [],
   "source": []
  },
  {
   "cell_type": "markdown",
   "metadata": {},
   "source": [
    "---"
   ]
  },
  {
   "cell_type": "markdown",
   "metadata": {
    "id": "GOvdgxbMe3v1"
   },
   "source": [
    "__4.__ Write a program to input the student ID, name, family name, and nickname of friends in your group and save to the file, named \"GroupMember.txt\"  \n",
    "* Seperate each values in file with comma(,)\n",
    "* Stop loop for input when enter the blank student ID"
   ]
  },
  {
   "cell_type": "markdown",
   "metadata": {
    "id": "DVl3px-5e3v1"
   },
   "source": [
    "Example:  \n",
    "Enter my Group's member  \n",
    "Student ID: *1234567*  \n",
    "Name: *Rakchart*  \n",
    "Family name: *Yingsheep*  \n",
    "Nick name: *Tor*  \n",
    "...Save to file...  \n",
    "\n",
    "Student ID:  \n",
    "...Ending Record...  \n"
   ]
  },
  {
   "cell_type": "markdown",
   "metadata": {
    "id": "q1VmPaMVe3v1"
   },
   "source": [
    "<span style=color:red> Write the code below: </span>"
   ]
  },
  {
   "cell_type": "code",
   "execution_count": 28,
   "metadata": {
    "id": "WvhfnK_We3v1"
   },
   "outputs": [
    {
     "name": "stdout",
     "output_type": "stream",
     "text": [
      "Enter my Group's member\n"
     ]
    },
    {
     "name": "stdin",
     "output_type": "stream",
     "text": [
      "Student ID:  1234567\n",
      "Name:  Rakchart\n",
      "Family name:  Yingsheep\n",
      "Nick name:  Tor\n"
     ]
    },
    {
     "name": "stdout",
     "output_type": "stream",
     "text": [
      "...Save to file...\n",
      "\n",
      "Enter my Group's member\n"
     ]
    },
    {
     "name": "stdin",
     "output_type": "stream",
     "text": [
      "Student ID:  \n"
     ]
    },
    {
     "name": "stdout",
     "output_type": "stream",
     "text": [
      "...Ending Record...\n"
     ]
    }
   ],
   "source": [
    "with open(\"GroupMember.txt\", \"w\") as file:\n",
    "    while True:\n",
    "        print(\"Enter my Group's member\")\n",
    "        student_id = input(\"Student ID: \")\n",
    "        if student_id == \"\":\n",
    "            print(\"...Ending Record...\")\n",
    "            break\n",
    "        name = input(\"Name: \")\n",
    "        family_name = input(\"Family name: \")\n",
    "        nickname = input(\"Nick name: \")\n",
    "            \n",
    "        file.write(f\"{student_id},{name},{family_name},{nickname}\\n\")\n",
    "        print(\"...Save to file...\\n\")"
   ]
  },
  {
   "cell_type": "code",
   "execution_count": null,
   "metadata": {
    "id": "06BdF-GrkoDn"
   },
   "outputs": [],
   "source": []
  },
  {
   "cell_type": "code",
   "execution_count": null,
   "metadata": {
    "id": "Pi6rdzxqkoG5"
   },
   "outputs": [],
   "source": []
  },
  {
   "cell_type": "markdown",
   "metadata": {},
   "source": [
    "---"
   ]
  },
  {
   "cell_type": "markdown",
   "metadata": {
    "id": "v_YpW2VTe3v2"
   },
   "source": [
    "__5.__ From this following flowchart, think and write code as a **function**  \n",
    "\n",
    "![pretest_flowchart.jpg](data:image/jpeg;base64,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)"
   ]
  },
  {
   "cell_type": "markdown",
   "metadata": {
    "id": "-rAFlm3_e3v2"
   },
   "source": [
    "* Receive an input **n** from user  \n",
    "* if **n** is negative number then re-input **n** again "
   ]
  },
  {
   "cell_type": "markdown",
   "metadata": {
    "id": "YFFpvhN6e3v2"
   },
   "source": [
    "<span style=color:red> Write the code below: </span>"
   ]
  },
  {
   "cell_type": "markdown",
   "metadata": {},
   "source": [
    "__Hint__:  \n",
    "1. beware the nagative number   \n",
    "n = int(input(\"Enter n: [non-negative]\"))  \n",
    "...\n",
    "\n",
    "\n",
    "\n",
    "2. write with in a function   \n",
    "__def__ fibo(n):  \n",
    "...  \n",
    "...  \n",
    "  "
   ]
  },
  {
   "cell_type": "code",
   "execution_count": 26,
   "metadata": {
    "id": "h3pXiHI3ks8-"
   },
   "outputs": [
    {
     "name": "stdin",
     "output_type": "stream",
     "text": [
      "Enter n:  -1\n",
      "Enter n again:  8\n"
     ]
    },
    {
     "name": "stdout",
     "output_type": "stream",
     "text": [
      "21\n"
     ]
    }
   ],
   "source": [
    "n = int(input(\"Enter n: \"))\n",
    "while n < 0:\n",
    "    n = int(input(\"Enter n again: \"))\n",
    "def fibo(n):\n",
    "    fibo = 0\n",
    "    f0 = 0\n",
    "    f1 = 1\n",
    "    c = 1\n",
    "    if n < 2:\n",
    "        return print(n)\n",
    "    else:\n",
    "        while True:\n",
    "            fibo = f0 + f1\n",
    "            c+=1\n",
    "            f0 = f1\n",
    "            f1 = fibo\n",
    "            if c >= n:\n",
    "                return print(fibo)\n",
    "                break\n",
    "fibo(n)"
   ]
  },
  {
   "cell_type": "code",
   "execution_count": null,
   "metadata": {
    "id": "DxsQCDADe3v2"
   },
   "outputs": [],
   "source": []
  },
  {
   "cell_type": "code",
   "execution_count": null,
   "metadata": {
    "id": "ON1IMFXwks3u"
   },
   "outputs": [],
   "source": []
  }
 ],
 "metadata": {
  "colab": {
   "collapsed_sections": [],
   "name": "PreTest.ipynb",
   "provenance": []
  },
  "kernelspec": {
   "display_name": "Python 3 (ipykernel)",
   "language": "python",
   "name": "python3"
  },
  "language_info": {
   "codemirror_mode": {
    "name": "ipython",
    "version": 3
   },
   "file_extension": ".py",
   "mimetype": "text/x-python",
   "name": "python",
   "nbconvert_exporter": "python",
   "pygments_lexer": "ipython3",
   "version": "3.11.7"
  }
 },
 "nbformat": 4,
 "nbformat_minor": 4
}
